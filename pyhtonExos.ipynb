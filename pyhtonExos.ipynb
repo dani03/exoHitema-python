#!/usr/bin/env python
# coding: utf-8

# In[1]:


# exercice 2.1 
nombre1 = input("entrez un premier nombre: ")
nombre2 = input("entrez un 2eme nombre: ")
while(int(nombre1) == 0 or int(nombre1) == 0):
  print("les nombres doivent être differents de 0\n")
  nombre1 = input("entrez un premier nombre: ")
  nombre2 = input("entrez un 2eme nombre: ")

produit = int(nombre1) * int(nombre2)
if produit >= 0:
  print(f"{produit} le produit est positif")
else:
  print(f"{produit} est negatif")


# In[3]:


#pseudo code exercice 2.1
ECRIRE("entrez un premier nombre : ", nombre1)
ECRIRE("entrez un 2eme nombre : ", nombre2)

TANT QUE nombre1 = 0 ou nombre2 = 0
    lire("les nombres doivent être differents de 0")
    ECRIRE("entrez un premier nombre : ", nombre1)
    ECRIRE("entrez un 2eme nombre : ", nombre2)

produit = nombre1 * nombre2

si produit >= 0
    ecrire("le produit les positif")
sinon
    ecrire("le produit est negatif")


# In[5]:


#exercice 2.2 additivité
nombre = int(input("entrez un nombre positif:"))
somme = 0
for i in range(nombre+1):
  somme += i

print(f"la somme est: {somme}")
print("complexité O(n)")


# In[7]:


#2.3 somme des elements d'un tableau
tab = [2, 1, 7, 0]
somme = 0
for i in tab:
  somme += i

print(f"la somme des elements du tableau est :{somme}")


# In[23]:


#2.4 facProduct 
tab1 = [1, 3, 4, 2]
tab2 = [4, 5, 6, 8]
num = 0
for i in tab1:
  for j in tab2:
    result = i * j
    num += result

print(f"le fac product est : {num}")


# In[10]:


#2.5 donner le max et la position
def get_max_and_position(tableau)-> str:
  maximum = tableau[0]
  position = 0
  for i in range(len(tableau)):
    if maximum < tableau[i]:
      maximum = tableau[i]
      position = i
  return (f"le maximum est :{maximum} sa position est {position}")

tableau = [2,4,6,32,8,10,12]
get_max_and_position(tableau)
print("la complexité est O(n)")


# In[11]:


#2.6 le nombre d'elements supérieure a la moyenne
tableau = [ 7, 8, 2, 1,2]
nb = 0
moyenne = sum(tableau) / len(tableau)
for i in range(len(tableau)):
  if tableau[i] > moyenne:
    nb += 1
print(f"il y a {nb} elements supérieur à la moyenne")


# In[13]:


#2.7    Multiplier des vecteurs
resultat = 0
tab1 = [1, 3, 4, 2]
tab2 = [4, 5, 6, 8]
for i in range(len(tab1)):
  resultat += tab1[i] * tab2[i]

print(f"le vecteur est : {resultat}")
print("complexité O(n)")


# In[25]:


#2.8 tris
tableau3 = [4, 5, 3, 1, 2, 3, 4, 5, 6, 7, 8, 9, 10]
def tri(tab, mod=2):
  isIt = []
  imp = []
  for i in range(len(tableau3)):
    if tableau3[i] % mod :
      imp.append(tableau3[i])
    else:
      isIt.append(tableau3[i])
  print(f"pair: {isIt}, impair: {imp}")

tri(tableau3, 2)


# In[30]:


#2.9 factorielle
def factorielle(n):
  last_i = 1
  val = 1
  response = ""
  for i in range(1, n+1):
    val *=  i
    last_i = i
  return val

print("complexité O(n)")
factorielle(4)


# In[34]:


#2.10 suite fibonnacci
def fibo(num):
  nombre_1 = 0
  nombre_2 = 1
  total = nombre_1 + nombre_2
  for i in range(num+1):
    if i == 0 or i == 1:
      
      nombre_1 = 0
      nombre_2 = 1
    else:
    
      nombre_1 = nombre_2
      nombre_2  = total
      total = nombre_1 + nombre_2
        
  return total

print("complexité O(n)")
fibo(5)


# In[40]:


#2.12 le temps d'arret


number = int(input("entrez une valeur: "))
somme = 0
i = 1
all_values = []
while number > somme:
  somme += 1/i
  all_values.append(round(somme, 2))
  i+= 1
print(all_values)

print("complexité O(n)")


# In[41]:


#somme adjencente

tab = [7, 10, 12, 7, 9, 14]

def programmationDinamique(tab)-> int:
  newTab = []
  somme = 0
  for i in range(len(tab)):
    num_to_add = tab[i]
    if(i > 1):
      
      j = i - 2
      somme = newTab[j] + tab[i]
      if(somme > newTab[i-1]):
        num_to_add = somme
      else:
        num_to_add = newTab[i-1]
    else:
        num_to_add = tab[i]
    newTab.append(num_to_add)
  print(newTab)
  return newTab[-1];
  
  
print(programmationDinamique(tab))


# In[ ]:




